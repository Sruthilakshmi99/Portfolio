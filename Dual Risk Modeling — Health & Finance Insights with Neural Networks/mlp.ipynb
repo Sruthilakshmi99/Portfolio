{
 "cells": [
  {
   "cell_type": "code",
   "execution_count": 1,
   "id": "4ee099bc-870c-4ff2-92f9-5ce7be44bb09",
   "metadata": {},
   "outputs": [],
   "source": [
    "import pandas as pd\n",
    "import numpy as np\n",
    "from sklearn.preprocessing import StandardScaler, OneHotEncoder\n",
    "from sklearn.impute import SimpleImputer\n",
    "from sklearn.compose import ColumnTransformer\n",
    "from sklearn.pipeline import Pipeline\n",
    "import matplotlib.pyplot as plt\n",
    "import seaborn as sns\n",
    "from sklearn.metrics import roc_curve, roc_auc_score"
   ]
  },
  {
   "cell_type": "markdown",
   "id": "f8ebdea3-6852-4f72-9aaa-22804d6a67aa",
   "metadata": {},
   "source": [
    "### DataSet 1: Stroke Data"
   ]
  },
  {
   "cell_type": "code",
   "execution_count": 2,
   "id": "f140341f-effc-4f85-923c-2a93d0f50ac3",
   "metadata": {},
   "outputs": [],
   "source": [
    "data = pd.read_csv(\"C:\\\\Users\\\\vrsru\\\\Downloads\\\\healthcare-dataset-stroke-data.csv\")"
   ]
  },
  {
   "cell_type": "code",
   "execution_count": 3,
   "id": "ff30aecc-8b82-4c13-b1cc-10ecc8cc28b1",
   "metadata": {},
   "outputs": [
    {
     "name": "stdout",
     "output_type": "stream",
     "text": [
      "      id  gender   age  hypertension  heart_disease ever_married  \\\n",
      "0   9046    Male  67.0             0              1          Yes   \n",
      "1  51676  Female  61.0             0              0          Yes   \n",
      "2  31112    Male  80.0             0              1          Yes   \n",
      "3  60182  Female  49.0             0              0          Yes   \n",
      "4   1665  Female  79.0             1              0          Yes   \n",
      "\n",
      "       work_type Residence_type  avg_glucose_level   bmi   smoking_status  \\\n",
      "0        Private          Urban             228.69  36.6  formerly smoked   \n",
      "1  Self-employed          Rural             202.21   NaN     never smoked   \n",
      "2        Private          Rural             105.92  32.5     never smoked   \n",
      "3        Private          Urban             171.23  34.4           smokes   \n",
      "4  Self-employed          Rural             174.12  24.0     never smoked   \n",
      "\n",
      "   stroke  \n",
      "0       1  \n",
      "1       1  \n",
      "2       1  \n",
      "3       1  \n",
      "4       1  \n"
     ]
    }
   ],
   "source": [
    "print(data.head())"
   ]
  },
  {
   "cell_type": "code",
   "execution_count": 4,
   "id": "eea0b335-5d01-4ca3-9ab3-ccbde8def9a7",
   "metadata": {},
   "outputs": [],
   "source": [
    "#Handle missing data\n",
    "num_features = ['bmi', 'avg_glucose_level']\n",
    "cat_features = ['smoking_status']\n",
    "num_imputer = SimpleImputer(strategy='mean')\n",
    "data[num_features] = num_imputer.fit_transform(data[num_features])\n",
    "cat_imputer = SimpleImputer(strategy='most_frequent')\n",
    "data[cat_features] = cat_imputer.fit_transform(data[cat_features])"
   ]
  },
  {
   "cell_type": "code",
   "execution_count": 5,
   "id": "81a35a35-653d-4662-aa6e-dcf265a95568",
   "metadata": {},
   "outputs": [],
   "source": [
    "#Encode Categorical Value\n",
    "data['ever_married'] = data['ever_married'].map({'Yes': 1, 'No': 0})\n",
    "categorical_features = ['gender', 'work_type', 'Residence_type', 'smoking_status']\n",
    "data = pd.get_dummies(data, columns=categorical_features, drop_first=True)"
   ]
  },
  {
   "cell_type": "code",
   "execution_count": 6,
   "id": "6ef88eff-b6fb-4f80-b346-2ea093a9483a",
   "metadata": {},
   "outputs": [],
   "source": [
    "#Scaling\n",
    "scaler = StandardScaler()\n",
    "data[['age', 'avg_glucose_level', 'bmi']] = scaler.fit_transform(data[['age', 'avg_glucose_level', 'bmi']])"
   ]
  },
  {
   "cell_type": "code",
   "execution_count": 7,
   "id": "a9628591-3d7c-4bf1-b38e-510b631dccad",
   "metadata": {},
   "outputs": [],
   "source": [
    "#Feature Engineering\n",
    "data['combined_health_risk'] = data['hypertension'] + data['heart_disease']\n",
    "data['age_bmi_ratio'] = data['age'] / (data['bmi'] + 1e-5) "
   ]
  },
  {
   "cell_type": "code",
   "execution_count": 8,
   "id": "b1cd7222-9f65-4c14-949f-e186fc227620",
   "metadata": {},
   "outputs": [],
   "source": [
    "#Create age categories based on age bins\n",
    "age_bins = [0, 18, 35, 60, 120]\n",
    "age_labels = ['child', 'young_adult', 'adult', 'senior']\n",
    "data['age_category'] = pd.cut(data['age'], bins=age_bins, labels=age_labels)"
   ]
  },
  {
   "cell_type": "code",
   "execution_count": 9,
   "id": "8c693b2f-eba6-43d8-a3b6-0096b089a6bd",
   "metadata": {},
   "outputs": [],
   "source": [
    "#Create glucose categories based on glucose bins\n",
    "glucose_bins = [0, 70, 140, 300]\n",
    "glucose_labels = ['low', 'normal', 'high']\n",
    "data['glucose_category'] = pd.cut(data['avg_glucose_level'], bins=glucose_bins, labels=glucose_labels)"
   ]
  },
  {
   "cell_type": "code",
   "execution_count": 10,
   "id": "6d19e949-1d78-4029-9247-fbc62dc06997",
   "metadata": {},
   "outputs": [],
   "source": [
    "data = pd.get_dummies(data, columns=['age_category', 'glucose_category'], drop_first=True)"
   ]
  },
  {
   "cell_type": "code",
   "execution_count": 11,
   "id": "6f6a1985-8dde-4c59-943f-a25a7c14f9a0",
   "metadata": {},
   "outputs": [],
   "source": [
    "#removing irrelevant coloumn\n",
    "data.drop(['id'], axis=1, inplace=True)"
   ]
  },
  {
   "cell_type": "code",
   "execution_count": 12,
   "id": "9c725471-fe3b-4d99-899e-1b5ae30af256",
   "metadata": {},
   "outputs": [],
   "source": [
    "bool_columns = data.select_dtypes(include='bool').columns\n",
    "data[bool_columns] = data[bool_columns].astype(int)"
   ]
  },
  {
   "cell_type": "code",
   "execution_count": 13,
   "id": "be7c84ab-94ea-4b1b-9d0d-58ceb5a01cf1",
   "metadata": {},
   "outputs": [
    {
     "name": "stdout",
     "output_type": "stream",
     "text": [
      "        age  hypertension  heart_disease  ever_married  avg_glucose_level  \\\n",
      "0  1.051434             0              1             1           2.706375   \n",
      "1  0.786070             0              0             1           2.121559   \n",
      "2  1.626390             0              1             1          -0.005028   \n",
      "3  0.255342             0              0             1           1.437358   \n",
      "4  1.582163             1              0             1           1.501184   \n",
      "\n",
      "            bmi  stroke  gender_Male  gender_Other  work_type_Never_worked  \\\n",
      "0  1.001234e+00       1            1             0                       0   \n",
      "1  4.615554e-16       1            0             0                       0   \n",
      "2  4.685773e-01       1            1             0                       0   \n",
      "3  7.154182e-01       1            0             0                       0   \n",
      "4 -6.357112e-01       1            0             0                       0   \n",
      "\n",
      "   ...  smoking_status_formerly smoked  smoking_status_never smoked  \\\n",
      "0  ...                               1                            0   \n",
      "1  ...                               0                            1   \n",
      "2  ...                               0                            1   \n",
      "3  ...                               0                            0   \n",
      "4  ...                               0                            1   \n",
      "\n",
      "   smoking_status_smokes  combined_health_risk  age_bmi_ratio  \\\n",
      "0                      0                     1       1.050128   \n",
      "1                      0                     0   78607.007262   \n",
      "2                      0                     1       3.470837   \n",
      "3                      1                     0       0.356907   \n",
      "4                      0                     1      -2.488847   \n",
      "\n",
      "   age_category_young_adult  age_category_adult  age_category_senior  \\\n",
      "0                         0                   0                    0   \n",
      "1                         0                   0                    0   \n",
      "2                         0                   0                    0   \n",
      "3                         0                   0                    0   \n",
      "4                         0                   0                    0   \n",
      "\n",
      "   glucose_category_normal  glucose_category_high  \n",
      "0                        0                      0  \n",
      "1                        0                      0  \n",
      "2                        0                      0  \n",
      "3                        0                      0  \n",
      "4                        0                      0  \n",
      "\n",
      "[5 rows x 24 columns]\n"
     ]
    }
   ],
   "source": [
    "print(data.head())"
   ]
  },
  {
   "cell_type": "code",
   "execution_count": 14,
   "id": "c44c8940-54c1-477b-870d-4082861854c9",
   "metadata": {},
   "outputs": [],
   "source": [
    "data.to_csv(\"preprocessed_stroke_data.csv\", index=False)"
   ]
  },
  {
   "cell_type": "code",
   "execution_count": 15,
   "id": "f5daaf46-c25e-498f-a476-19b00c003cd2",
   "metadata": {},
   "outputs": [
    {
     "name": "stdout",
     "output_type": "stream",
     "text": [
      "   ever_married  stroke  gender_Male  gender_Other  work_type_Never_worked  \\\n",
      "0             1       1            1             0                       0   \n",
      "1             1       1            0             0                       0   \n",
      "2             1       1            1             0                       0   \n",
      "3             1       1            0             0                       0   \n",
      "4             1       1            0             0                       0   \n",
      "\n",
      "   work_type_Private  work_type_Self-employed  work_type_children  \\\n",
      "0                  1                        0                   0   \n",
      "1                  0                        1                   0   \n",
      "2                  1                        0                   0   \n",
      "3                  1                        0                   0   \n",
      "4                  0                        1                   0   \n",
      "\n",
      "   Residence_type_Urban  smoking_status_formerly smoked  \\\n",
      "0                     1                               1   \n",
      "1                     0                               0   \n",
      "2                     0                               0   \n",
      "3                     1                               0   \n",
      "4                     0                               0   \n",
      "\n",
      "   smoking_status_never smoked  smoking_status_smokes  combined_health_risk  \\\n",
      "0                            0                      0                     1   \n",
      "1                            1                      0                     0   \n",
      "2                            1                      0                     1   \n",
      "3                            0                      1                     0   \n",
      "4                            1                      0                     1   \n",
      "\n",
      "   age_bmi_ratio  age_category_young_adult  age_category_adult  \\\n",
      "0       1.050128                         0                   0   \n",
      "1   78607.007262                         0                   0   \n",
      "2       3.470837                         0                   0   \n",
      "3       0.356907                         0                   0   \n",
      "4      -2.488847                         0                   0   \n",
      "\n",
      "   age_category_senior  glucose_category_normal  glucose_category_high  \n",
      "0                    0                        0                      0  \n",
      "1                    0                        0                      0  \n",
      "2                    0                        0                      0  \n",
      "3                    0                        0                      0  \n",
      "4                    0                        0                      0  \n"
     ]
    }
   ],
   "source": [
    "columns_to_drop = ['hypertension', 'heart_disease', 'age', 'bmi','avg_glucose_level']\n",
    "data.drop(columns=columns_to_drop, inplace=True, errors='ignore')\n",
    "\n",
    "print(data.head())\n"
   ]
  },
  {
   "cell_type": "code",
   "execution_count": 16,
   "id": "68e1908d-24b0-489e-99f5-e611763d5bca",
   "metadata": {},
   "outputs": [
    {
     "name": "stderr",
     "output_type": "stream",
     "text": [
      "C:\\Users\\vrsru\\AppData\\Local\\Temp\\ipykernel_16976\\967412644.py:5: FutureWarning: \n",
      "\n",
      "Passing `palette` without assigning `hue` is deprecated and will be removed in v0.14.0. Assign the `x` variable to `hue` and set `legend=False` for the same effect.\n",
      "\n",
      "  sns.barplot(x=class_counts.index, y=class_counts.values, palette=\"viridis\")\n"
     ]
    },
    {
     "data": {
      "image/png": "[encoded data removed]",
      "text/plain": [
       "<Figure size 400x200 with 1 Axes>"
      ]
     },
     "metadata": {},
     "output_type": "display_data"
    }
   ],
   "source": [
    "class_counts = data['stroke'].value_counts()\n",
    "\n",
    "# Plot the class distribution\n",
    "plt.figure(figsize=(4, 2))\n",
    "sns.barplot(x=class_counts.index, y=class_counts.values, palette=\"viridis\")\n",
    "plt.title(\"Class Distribution: Stroke vs Non-Stroke\", fontsize=14)\n",
    "plt.xlabel(\"Stroke (0 = No, 1 = Yes)\", fontsize=12)\n",
    "plt.ylabel(\"Number of Samples\", fontsize=12)\n",
    "plt.xticks([0, 1], labels=['Non-Stroke', 'Stroke'])\n",
    "plt.show()"
   ]
  },
  {
   "cell_type": "code",
   "execution_count": 17,
   "id": "03c9cf7d-95c0-40c5-8d43-c848c69492f8",
   "metadata": {},
   "outputs": [
    {
     "name": "stdout",
     "output_type": "stream",
     "text": [
      "Requirement already satisfied: imbalanced-learn in c:\\users\\vrsru\\appdata\\local\\programs\\python\\python312\\lib\\site-packages (0.13.0)\n",
      "Requirement already satisfied: numpy<3,>=1.24.3 in c:\\users\\vrsru\\appdata\\local\\programs\\python\\python312\\lib\\site-packages (from imbalanced-learn) (1.26.4)\n",
      "Requirement already satisfied: scipy<2,>=1.10.1 in c:\\users\\vrsru\\appdata\\local\\programs\\python\\python312\\lib\\site-packages (from imbalanced-learn) (1.13.0)\n",
      "Requirement already satisfied: scikit-learn<2,>=1.3.2 in c:\\users\\vrsru\\appdata\\local\\programs\\python\\python312\\lib\\site-packages (from imbalanced-learn) (1.5.2)\n",
      "Requirement already satisfied: sklearn-compat<1,>=0.1 in c:\\users\\vrsru\\appdata\\local\\programs\\python\\python312\\lib\\site-packages (from imbalanced-learn) (0.1.3)\n",
      "Requirement already satisfied: joblib<2,>=1.1.1 in c:\\users\\vrsru\\appdata\\local\\programs\\python\\python312\\lib\\site-packages (from imbalanced-learn) (1.4.2)\n",
      "Requirement already satisfied: threadpoolctl<4,>=2.0.0 in c:\\users\\vrsru\\appdata\\local\\programs\\python\\python312\\lib\\site-packages (from imbalanced-learn) (3.5.0)\n"
     ]
    }
   ],
   "source": [
    "!pip install imbalanced-learn"
   ]
  },
  {
   "cell_type": "code",
   "execution_count": 18,
   "id": "71da8baf-f24b-42e4-96b7-5c19eb7a3a0f",
   "metadata": {},
   "outputs": [
    {
     "name": "stdout",
     "output_type": "stream",
     "text": [
      "Before SMOTE:\n",
      "stroke\n",
      "0    3889\n",
      "1     199\n",
      "Name: count, dtype: int64\n",
      "\n",
      "After SMOTE:\n",
      "stroke\n",
      "0    3889\n",
      "1    3889\n",
      "Name: count, dtype: int64\n"
     ]
    }
   ],
   "source": [
    "from imblearn.over_sampling import SMOTE\n",
    "from sklearn.model_selection import train_test_split\n",
    "\n",
    "# Separate features and target\n",
    "X = data.drop('stroke', axis=1) \n",
    "y = data['stroke']  \n",
    "\n",
    "# Split the data into training and testing sets\n",
    "X_train, X_test, y_train, y_test = train_test_split(X, y, test_size=0.2, random_state=42, stratify=y)\n",
    "\n",
    "# Apply SMOTE to the training set\n",
    "smote = SMOTE(random_state=42)\n",
    "X_train_smote, y_train_smote = smote.fit_resample(X_train, y_train)\n",
    "\n",
    "# Check class distribution after SMOTE\n",
    "print(\"Before SMOTE:\")\n",
    "print(y_train.value_counts())\n",
    "print(\"\\nAfter SMOTE:\")\n",
    "print(y_train_smote.value_counts())"
   ]
  },
  {
   "cell_type": "code",
   "execution_count": 19,
   "id": "7a3373fe-601d-44a4-942c-50922d52a6b1",
   "metadata": {},
   "outputs": [
    {
     "name": "stdout",
     "output_type": "stream",
     "text": [
      "Confusion Matrix:\n",
      "[[794 178]\n",
      " [ 38  12]]\n",
      "\n",
      "Classification Report:\n",
      "              precision    recall  f1-score   support\n",
      "\n",
      "           0       0.95      0.82      0.88       972\n",
      "           1       0.06      0.24      0.10        50\n",
      "\n",
      "    accuracy                           0.79      1022\n",
      "   macro avg       0.51      0.53      0.49      1022\n",
      "weighted avg       0.91      0.79      0.84      1022\n",
      "\n",
      "\n",
      "Accuracy Score:\n",
      "0.7886497064579256\n"
     ]
    }
   ],
   "source": [
    "from sklearn.neural_network import MLPClassifier\n",
    "from sklearn.metrics import classification_report, confusion_matrix, accuracy_score\n",
    "\n",
    "# Initialize the MLP Classifier\n",
    "#Referenced from lab 3\n",
    "clf1 = MLPClassifier(\n",
    "    random_state=42,              \n",
    "    activation='logistic',         \n",
    "    hidden_layer_sizes=(128, 64, 32),  \n",
    "    solver='adam',                 \n",
    "    max_iter=500                   \n",
    ")\n",
    "\n",
    "# Train the classifier on the SMOTE-balanced data\n",
    "clf1.fit(X_train_smote, y_train_smote)\n",
    "\n",
    "# Make predictions on the test set\n",
    "clf1_predict = clf1.predict(X_test)\n",
    "\n",
    "# Evaluation Metrics\n",
    "print(\"Confusion Matrix:\")\n",
    "print(confusion_matrix(y_test, clf1_predict))\n",
    "print(\"\\nClassification Report:\")\n",
    "print(classification_report(y_test, clf1_predict))\n",
    "print(\"\\nAccuracy Score:\")\n",
    "print(accuracy_score(y_test, clf1_predict))\n"
   ]
  },
  {
   "cell_type": "code",
   "execution_count": 54,
   "id": "91b20b0d-5f65-458b-a086-5f08faf787ed",
   "metadata": {},
   "outputs": [
    {
     "name": "stdout",
     "output_type": "stream",
     "text": [
      "Confusion Matrix:\n",
      "[[1233  376]\n",
      " [ 203  104]]\n",
      "\n",
      "Classification Report:\n",
      "              precision    recall  f1-score   support\n",
      "\n",
      "           0       0.86      0.77      0.81      1609\n",
      "           1       0.22      0.34      0.26       307\n",
      "\n",
      "    accuracy                           0.70      1916\n",
      "   macro avg       0.54      0.55      0.54      1916\n",
      "weighted avg       0.76      0.70      0.72      1916\n",
      "\n",
      "\n",
      "Accuracy Score:\n",
      "0.6978079331941545\n"
     ]
    },
    {
     "name": "stderr",
     "output_type": "stream",
     "text": [
      "C:\\Users\\vrsru\\AppData\\Local\\Programs\\Python\\Python312\\Lib\\site-packages\\sklearn\\neural_network\\_multilayer_perceptron.py:690: ConvergenceWarning: Stochastic Optimizer: Maximum iterations (200) reached and the optimization hasn't converged yet.\n",
      "  warnings.warn(\n"
     ]
    }
   ],
   "source": [
    "\n",
    "# Initialize the MLP Classifier\n",
    "clf2 = MLPClassifier(\n",
    "    random_state=42,              \n",
    "    activation='logistic',         \n",
    "    hidden_layer_sizes=( 128, 64, 32),  \n",
    "    solver='adam',                 \n",
    "    max_iter=200                   \n",
    ")\n",
    "\n",
    "# Train the classifier on the SMOTE-balanced data\n",
    "clf2.fit(X_train_smote, y_train_smote)\n",
    "\n",
    "# Make predictions on the test set\n",
    "clf2_predict = clf2.predict(X_test)\n",
    "\n",
    "# Evaluation Metrics\n",
    "print(\"Confusion Matrix:\")\n",
    "print(confusion_matrix(y_test, clf2_predict))\n",
    "print(\"\\nClassification Report:\")\n",
    "print(classification_report(y_test, clf2_predict))\n",
    "print(\"\\nAccuracy Score:\")\n",
    "print(accuracy_score(y_test, clf2_predict))\n"
   ]
  },
  {
   "cell_type": "code",
   "execution_count": 55,
   "id": "37348fdc-00be-4c92-9843-b235e6b7d95e",
   "metadata": {},
   "outputs": [
    {
     "name": "stdout",
     "output_type": "stream",
     "text": [
      "Confusion Matrix:\n",
      "[[1233  376]\n",
      " [ 197  110]]\n",
      "\n",
      "Classification Report:\n",
      "              precision    recall  f1-score   support\n",
      "\n",
      "           0       0.86      0.77      0.81      1609\n",
      "           1       0.23      0.36      0.28       307\n",
      "\n",
      "    accuracy                           0.70      1916\n",
      "   macro avg       0.54      0.56      0.54      1916\n",
      "weighted avg       0.76      0.70      0.73      1916\n",
      "\n",
      "\n",
      "Accuracy Score:\n",
      "0.7009394572025052\n"
     ]
    }
   ],
   "source": [
    "\n",
    "# Initialize the MLP Classifier\n",
    "clf3 = MLPClassifier(\n",
    "    random_state=42,              \n",
    "    activation='logistic',         \n",
    "    hidden_layer_sizes=( 128, 64, 32),  \n",
    "    solver='adam',                 \n",
    "    max_iter=800                   \n",
    ")\n",
    "\n",
    "# Train the classifier on the SMOTE-balanced data\n",
    "clf3.fit(X_train_smote, y_train_smote)\n",
    "\n",
    "# Make predictions on the test set\n",
    "clf3_predict = clf3.predict(X_test)\n",
    "\n",
    "# Evaluation Metrics\n",
    "print(\"Confusion Matrix:\")\n",
    "print(confusion_matrix(y_test, clf3_predict))\n",
    "print(\"\\nClassification Report:\")\n",
    "print(classification_report(y_test, clf3_predict))\n",
    "print(\"\\nAccuracy Score:\")\n",
    "print(accuracy_score(y_test, clf3_predict))\n"
   ]
  },
  {
   "cell_type": "markdown",
   "id": "bcab58b6-0817-4c6b-8f6d-a76cde7db2cc",
   "metadata": {},
   "source": [
    "### Dataset 2 : Loan Data"
   ]
  },
  {
   "cell_type": "code",
   "execution_count": 22,
   "id": "849fc7d8-f69d-4bf1-bc64-bdb946ff9a7d",
   "metadata": {},
   "outputs": [],
   "source": [
    "data = pd.read_csv(\"C:\\\\Users\\\\vrsru\\\\Downloads\\\\loan_data.csv\")"
   ]
  },
  {
   "cell_type": "code",
   "execution_count": 23,
   "id": "4b9cde60-830c-4c67-aab6-9acda7df27b6",
   "metadata": {},
   "outputs": [],
   "source": [
    "#handling missing data\n",
    "\n",
    "num_features = ['int.rate', 'installment', 'log.annual.inc', 'dti', 'fico', \n",
    "                'days.with.cr.line', 'revol.bal', 'revol.util']\n",
    "cat_features = ['purpose']\n",
    "num_imputer = SimpleImputer(strategy='mean')\n",
    "data[num_features] = num_imputer.fit_transform(data[num_features])"
   ]
  },
  {
   "cell_type": "code",
   "execution_count": 24,
   "id": "d2310caf-78b9-47a4-b868-919350e4f239",
   "metadata": {},
   "outputs": [],
   "source": [
    "data = pd.get_dummies(data, columns=cat_features, drop_first=True)"
   ]
  },
  {
   "cell_type": "code",
   "execution_count": 25,
   "id": "7681b6e0-2eb5-44da-885c-584e285022b5",
   "metadata": {},
   "outputs": [],
   "source": [
    "#scaling\n",
    "scaler = StandardScaler()\n",
    "data[num_features] = scaler.fit_transform(data[num_features])"
   ]
  },
  {
   "cell_type": "code",
   "execution_count": 26,
   "id": "384713b6-144e-4740-94e6-18fe2bc9b93a",
   "metadata": {},
   "outputs": [],
   "source": [
    "#Feature Engineering\n",
    "data['dti_fico_ratio'] = data['dti'] / (data['fico'] + 1e-5)"
   ]
  },
  {
   "cell_type": "code",
   "execution_count": 27,
   "id": "ff36bcfc-db31-47ca-b5b5-b6e2af18b8fc",
   "metadata": {},
   "outputs": [],
   "source": [
    "fico_bins = [300, 580, 670, 740, 850]\n",
    "fico_labels = ['poor', 'fair', 'good', 'excellent']\n",
    "data['fico_category'] = pd.cut(data['fico'] * 100 + 300, bins=fico_bins, labels=fico_labels)"
   ]
  },
  {
   "cell_type": "code",
   "execution_count": 28,
   "id": "6a90899d-1d4f-4331-a061-fde1e01b8cd3",
   "metadata": {},
   "outputs": [],
   "source": [
    "data = pd.get_dummies(data, columns=['fico_category'], drop_first=True)"
   ]
  },
  {
   "cell_type": "code",
   "execution_count": 29,
   "id": "7843ceab-7060-4991-bbb1-7c8c804b1d11",
   "metadata": {},
   "outputs": [],
   "source": [
    "data.drop(columns=['fico'], inplace=True)"
   ]
  },
  {
   "cell_type": "code",
   "execution_count": 30,
   "id": "ea67ebb3-7987-4b4d-a8f5-81c46893642c",
   "metadata": {},
   "outputs": [],
   "source": [
    "bool_columns = data.select_dtypes(include='bool').columns\n",
    "data[bool_columns] = data[bool_columns].astype(int)"
   ]
  },
  {
   "cell_type": "code",
   "execution_count": 31,
   "id": "f2a9d355-3f55-4db1-8961-a4a84967f44f",
   "metadata": {},
   "outputs": [],
   "source": [
    "data.to_csv(\"preprocessed_loan_data.csv\", index=False)"
   ]
  },
  {
   "cell_type": "code",
   "execution_count": 32,
   "id": "dc14d3fd-e11a-42dd-adf7-43d5a69431d1",
   "metadata": {},
   "outputs": [
    {
     "name": "stdout",
     "output_type": "stream",
     "text": [
      "   credit.policy  int.rate  installment  log.annual.inc       dti  \\\n",
      "0              1 -0.139318     2.463099        0.680388  0.998505   \n",
      "1              1 -0.578868    -0.438854        0.244031  0.244540   \n",
      "2              1  0.486484     0.230708       -0.908659 -0.141885   \n",
      "3              1 -0.813544    -0.757022        0.680388 -0.654697   \n",
      "4              1  0.743509    -1.043992        0.597961  0.343326   \n",
      "\n",
      "   days.with.cr.line  revol.bal  revol.util  inq.last.6mths  delinq.2yrs  ...  \\\n",
      "0           0.432230   0.353732    0.182704               0            0  ...   \n",
      "1          -0.721230   0.495018    1.030602               0            0  ...   \n",
      "2           0.059770  -0.397073   -0.730683               1            0  ...   \n",
      "3          -0.745277   0.496321    0.909966               1            0  ...   \n",
      "4          -0.198161  -0.360663   -0.251586               0            1  ...   \n",
      "\n",
      "   purpose_credit_card  purpose_debt_consolidation  purpose_educational  \\\n",
      "0                    0                           1                    0   \n",
      "1                    1                           0                    0   \n",
      "2                    0                           1                    0   \n",
      "3                    0                           1                    0   \n",
      "4                    1                           0                    0   \n",
      "\n",
      "   purpose_home_improvement  purpose_major_purchase  purpose_small_business  \\\n",
      "0                         0                       0                       0   \n",
      "1                         0                       0                       0   \n",
      "2                         0                       0                       0   \n",
      "3                         0                       0                       0   \n",
      "4                         0                       0                       0   \n",
      "\n",
      "   dti_fico_ratio  fico_category_fair  fico_category_good  \\\n",
      "0        1.449557                   0                   0   \n",
      "1       -2.414198                   0                   0   \n",
      "2        0.186756                   0                   0   \n",
      "3      -21.539423                   0                   0   \n",
      "4       -0.297304                   0                   0   \n",
      "\n",
      "   fico_category_excellent  \n",
      "0                        0  \n",
      "1                        0  \n",
      "2                        0  \n",
      "3                        0  \n",
      "4                        0  \n",
      "\n",
      "[5 rows x 22 columns]\n"
     ]
    }
   ],
   "source": [
    "print(data.head())"
   ]
  },
  {
   "cell_type": "code",
   "execution_count": 33,
   "id": "cae935a5-daf0-4f29-8959-38ae3f22dfe6",
   "metadata": {},
   "outputs": [
    {
     "name": "stderr",
     "output_type": "stream",
     "text": [
      "C:\\Users\\vrsru\\AppData\\Local\\Temp\\ipykernel_16976\\2244872141.py:5: FutureWarning: \n",
      "\n",
      "Passing `palette` without assigning `hue` is deprecated and will be removed in v0.14.0. Assign the `x` variable to `hue` and set `legend=False` for the same effect.\n",
      "\n",
      "  sns.barplot(x=class_counts.index, y=class_counts.values, palette=\"viridis\")\n"
     ]
    },
    {
     "data": {
      "image/png": "[encoded data removed]",
      "text/plain": [
       "<Figure size 600x400 with 1 Axes>"
      ]
     },
     "metadata": {},
     "output_type": "display_data"
    }
   ],
   "source": [
    "class_counts = data['not.fully.paid'].value_counts()\n",
    "\n",
    "# Plot the class distribution\n",
    "plt.figure(figsize=(6, 4))\n",
    "sns.barplot(x=class_counts.index, y=class_counts.values, palette=\"viridis\")\n",
    "plt.title(\"Class Distribution: Fully Paid vs Not Fully Paid\", fontsize=14)\n",
    "plt.xlabel(\"Not Fully Paid (0 = Fully Paid, 1 = Not Fully Paid)\", fontsize=12)\n",
    "plt.ylabel(\"Number of Samples\", fontsize=12)\n",
    "plt.xticks([0, 1], labels=['Fully Paid', 'Not Fully Paid'])\n",
    "plt.grid(axis='y', linestyle='--', alpha=0.7)\n",
    "plt.show()"
   ]
  },
  {
   "cell_type": "code",
   "execution_count": 34,
   "id": "0455e902-3472-4c48-996a-7b70723bcfc7",
   "metadata": {},
   "outputs": [
    {
     "name": "stdout",
     "output_type": "stream",
     "text": [
      "Before SMOTE:\n",
      "not.fully.paid\n",
      "0    6436\n",
      "1    1226\n",
      "Name: count, dtype: int64\n",
      "\n",
      "After SMOTE:\n",
      "not.fully.paid\n",
      "0    6436\n",
      "1    6436\n",
      "Name: count, dtype: int64\n"
     ]
    }
   ],
   "source": [
    "X = data.drop(columns=['not.fully.paid'])  \n",
    "y = data['not.fully.paid'] \n",
    "X_train, X_test, y_train, y_test = train_test_split(X, y, test_size=0.2, random_state=42, stratify=y)\n",
    "\n",
    "smote = SMOTE(random_state=42)\n",
    "X_train_smote, y_train_smote = smote.fit_resample(X_train, y_train)\n",
    "\n",
    "print(\"Before SMOTE:\")\n",
    "print(y_train.value_counts())\n",
    "print(\"\\nAfter SMOTE:\")\n",
    "print(y_train_smote.value_counts())"
   ]
  },
  {
   "cell_type": "code",
   "execution_count": 56,
   "id": "632d75cd-1bfe-4d6a-9b2c-c610f95994d4",
   "metadata": {},
   "outputs": [
    {
     "name": "stdout",
     "output_type": "stream",
     "text": [
      "Confusion Matrix:\n",
      "[[1313  296]\n",
      " [ 217   90]]\n",
      "\n",
      "Classification Report:\n",
      "              precision    recall  f1-score   support\n",
      "\n",
      "           0       0.86      0.82      0.84      1609\n",
      "           1       0.23      0.29      0.26       307\n",
      "\n",
      "    accuracy                           0.73      1916\n",
      "   macro avg       0.55      0.55      0.55      1916\n",
      "weighted avg       0.76      0.73      0.74      1916\n",
      "\n",
      "\n",
      "Accuracy Score:\n",
      "0.7322546972860126\n"
     ]
    }
   ],
   "source": [
    "clf_loan = MLPClassifier(\n",
    "    random_state=42,               \n",
    "    activation='relu',             \n",
    "    hidden_layer_sizes=(128, 64, 32, 16),  \n",
    "    solver='adam',                 \n",
    "    max_iter=200                  \n",
    ")\n",
    "\n",
    "clf_loan.fit(X_train_smote, y_train_smote)\n",
    "\n",
    "y_pred = clf_loan.predict(X_test)\n",
    "\n",
    "# Evaluation Metrics\n",
    "print(\"Confusion Matrix:\")\n",
    "print(confusion_matrix(y_test, y_pred))\n",
    "print(\"\\nClassification Report:\")\n",
    "print(classification_report(y_test, y_pred))\n",
    "print(\"\\nAccuracy Score:\")\n",
    "print(accuracy_score(y_test, y_pred))"
   ]
  },
  {
   "cell_type": "code",
   "execution_count": 44,
   "id": "531c5168-bee4-45d8-9db8-09ace77972fd",
   "metadata": {},
   "outputs": [],
   "source": [
    "import sklearn\n",
    "import matplotlib\n",
    "import imblearn"
   ]
  },
  {
   "cell_type": "code",
   "execution_count": 45,
   "id": "3c1be558-65a2-4ca9-b7a8-83acd743fb68",
   "metadata": {},
   "outputs": [
    {
     "name": "stdout",
     "output_type": "stream",
     "text": [
      "Pandas version: 2.2.2\n",
      "NumPy version: 1.26.4\n",
      "Scikit-learn version: 1.5.2\n",
      "Matplotlib version: 3.8.4\n",
      "Seaborn version: 0.13.2\n",
      "Imbalanced-learn version: 0.13.0\n"
     ]
    }
   ],
   "source": [
    "print(\"Pandas version:\", pd.__version__)\n",
    "print(\"NumPy version:\", np.__version__)\n",
    "print(\"Scikit-learn version:\", sklearn.__version__)\n",
    "print(\"Matplotlib version:\", matplotlib.__version__)\n",
    "print(\"Seaborn version:\", sns.__version__)\n",
    "print(\"Imbalanced-learn version:\", imblearn.__version__)"
   ]
  },
  {
   "cell_type": "code",
   "execution_count": null,
   "id": "9dfc3981-8d7e-45d2-9afa-c06bcb8182ae",
   "metadata": {},
   "outputs": [],
   "source": []
  }
 ],
 "metadata": {
  "kernelspec": {
   "display_name": "Python 3 (ipykernel)",
   "language": "python",
   "name": "python3"
  },
  "language_info": {
   "codemirror_mode": {
    "name": "ipython",
    "version": 3
   },
   "file_extension": ".py",
   "mimetype": "text/x-python",
   "name": "python",
   "nbconvert_exporter": "python",
   "pygments_lexer": "ipython3",
   "version": "3.12.3"
  }
 },
 "nbformat": 4,
 "nbformat_minor": 5
}
